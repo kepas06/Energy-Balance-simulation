{
 "cells": [
  {
   "cell_type": "code",
   "execution_count": 11,
   "metadata": {},
   "outputs": [],
   "source": [
    "import random\n",
    "from functools import reduce\n",
    "from math import sqrt,log,sin,cos,pi,exp,\n",
    "import statistics\n",
    "import seaborn as sns\n",
    "import scipy.stats as sp\n",
    "#użyte wzory: stdev - odchylenie standardowe https://www.geeksforgeeks.org/python-statistics-stdev/\n",
    "from scipy.stats import poisson\n",
    "import seaborn as sb\n",
    "\n"
   ]
  },
  {
   "cell_type": "code",
   "execution_count": 12,
   "metadata": {},
   "outputs": [],
   "source": [
    "def silnia_rek(n):\n",
    "    if n>1:\n",
    "        return n*silnia_rek(n-1)    #wywolanie rekurencyjne funkcji\n",
    "    elif n in (0,1):\n",
    "        return 1\n",
    "    \n",
    "    \n",
    "    "
   ]
  },
  {
   "cell_type": "code",
   "execution_count": 34,
   "metadata": {},
   "outputs": [
    {
     "ename": "SyntaxError",
     "evalue": "invalid syntax (<ipython-input-34-d8bdcda1cbf4>, line 8)",
     "output_type": "error",
     "traceback": [
      "\u001b[0;36m  File \u001b[0;32m\"<ipython-input-34-d8bdcda1cbf4>\"\u001b[0;36m, line \u001b[0;32m8\u001b[0m\n\u001b[0;31m    x = -1\u001b[0m\n\u001b[0m    ^\u001b[0m\n\u001b[0;31mSyntaxError\u001b[0m\u001b[0;31m:\u001b[0m invalid syntax\n"
     ]
    }
   ],
   "source": [
    "def fun(h,k):\n",
    "    val = (h**k)*(exp(-h))\n",
    "    return (((h**k)*(exp(-h))/(silnia_rek(k)))\n",
    "\n",
    "            \n",
    "\n",
    "\n",
    "while(2000):\n",
    "    val = random.random()\n",
    "    print(val)\n",
    "    S*=fun(4,val)\n",
    "    x+=1\n",
    "    \n",
    "    \n",
    "    "
   ]
  },
  {
   "cell_type": "code",
   "execution_count": null,
   "metadata": {},
   "outputs": [],
   "source": []
  },
  {
   "cell_type": "code",
   "execution_count": null,
   "metadata": {},
   "outputs": [],
   "source": []
  }
 ],
 "metadata": {
  "kernelspec": {
   "display_name": "Python 3",
   "language": "python",
   "name": "python3"
  },
  "language_info": {
   "codemirror_mode": {
    "name": "ipython",
    "version": 3
   },
   "file_extension": ".py",
   "mimetype": "text/x-python",
   "name": "python",
   "nbconvert_exporter": "python",
   "pygments_lexer": "ipython3",
   "version": "3.6.7"
  }
 },
 "nbformat": 4,
 "nbformat_minor": 2
}
