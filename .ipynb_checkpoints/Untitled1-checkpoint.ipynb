{
 "cells": [
  {
   "cell_type": "code",
   "execution_count": 1,
   "metadata": {},
   "outputs": [
    {
     "data": {
      "text/plain": [
       "<Figure size 640x480 with 4 Axes>"
      ]
     },
     "metadata": {},
     "output_type": "display_data"
    }
   ],
   "source": [
    "from numpy import random, sqrt, log, sin, cos, pi\n",
    "from pylab import show,hist,subplot,figure\n",
    "\n",
    "# transformation function\n",
    "def gaussian(u1,u2):\n",
    "  xc = sqrt(-2*log(u1))*cos(2*pi*u2)\n",
    "  z2 = sqrt(-2*log(u1))*sin(2*pi*u2)\n",
    "  re z1,z2\n",
    "\n",
    "# uniformly distributed values between 0 and 1\n",
    "u1 = random.rand(1000)\n",
    "u2 = random.rand(1000)\n",
    "\n",
    "# run the transformation\n",
    "z1,z2 = gaussian(u1,u2)\n",
    "\n",
    "# plotting the values before and after the transformation\n",
    "figure()\n",
    "subplot(221) # the first row of graphs\n",
    "hist(u1)     # contains the histograms of u1 and u2 \n",
    "subplot(222)\n",
    "hist(u2)\n",
    "subplot(223) # the second contains\n",
    "hist(z1)     # the histograms of z1 and z2\n",
    "subplot(224)\n",
    "hist(z2)\n",
    "show()"
   ]
  },
  {
   "cell_type": "code",
   "execution_count": null,
   "metadata": {},
   "outputs": [],
   "source": []
  }
 ],
 "metadata": {
  "kernelspec": {
   "display_name": "Python 3",
   "language": "python",
   "name": "python3"
  },
  "language_info": {
   "codemirror_mode": {
    "name": "ipython",
    "version": 3
   },
   "file_extension": ".py",
   "mimetype": "text/x-python",
   "name": "python",
   "nbconvert_exporter": "python",
   "pygments_lexer": "ipython3",
   "version": "3.6.7"
  }
 },
 "nbformat": 4,
 "nbformat_minor": 2
}
