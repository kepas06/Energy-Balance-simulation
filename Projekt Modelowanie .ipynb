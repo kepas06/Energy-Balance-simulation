{
 "cells": [
  {
   "cell_type": "code",
   "execution_count": 29,
   "metadata": {},
   "outputs": [],
   "source": [
    "#import bibliotek\n",
    "\n",
    "import random\n",
    "from functools import reduce\n",
    "from math import sqrt,log,sin,cos,pi\n",
    "import statistics\n",
    "import seaborn as sns\n",
    "import scipy.stats as sp\n",
    "import pandas as pd\n",
    "import matplotlib.pyplot as plt\n",
    "\n",
    "\n",
    "\n",
    "#użyte wzory: stdev - odchylenie standardowe https://www.geeksforgeeks.org/python-statistics-stdev/\n",
    "\n",
    "outputList = [] #deklaracja wynikowej tablicy przechowującej wyniki.\n"
   ]
  },
  {
   "cell_type": "code",
   "execution_count": 30,
   "metadata": {},
   "outputs": [],
   "source": [
    "#obliczanie średniej arytmetycznej. \n",
    "def average(lst): \n",
    "    return reduce(lambda a, b: a + b, lst) / len(lst) \n",
    "\n",
    "#metoda Boxa mullera.\n",
    "def normalDist(mu,sigma):\n",
    "    u = random.random()\n",
    "    v = random.random()\n",
    "\n",
    "    z1 = sqrt(-2 * log(u)) * sin(2 * pi * v)\n",
    "    z2 = sqrt(-2 * log(u)) * cos(2 * pi * v)\n",
    "    \n",
    "    x1 = mu + z1 * sigma\n",
    "    x2 = mu + z2 * sigma\n",
    "\n",
    "    return x2\n",
    "\n",
    "#klasyfikacja temperatury i na jej podstawie obliczanie \n",
    "def temperatureClassyfying(temp,stdDev):\n",
    "    if temp > -25 and temp < -15:\n",
    "        result = normalDist(abs(temp)*30,stdDev*30)\n",
    "    elif temp >= -15 and temp<0:\n",
    "        result = normalDist(abs(temp)*20,stdDev*20)\n",
    "    elif temp >=0 and temp < 10:\n",
    "        result = normalDist(abs(temp)*10,stdDev*10)\n",
    "    elif temp >=10 and temp <25:\n",
    "        result = normalDist(abs(temp)*20,stdDev*20)\n",
    "    \n",
    "    return result\n",
    "\n",
    "#funkcja pomocnicza dla prostszych etapów. Funkcja przyjmuje 4 parametry.\n",
    "#losuje ok 50 liczb z przedziału zdefiniowanego w dwóch pierwszych parametrach. \n",
    "#nastepnie z tego przedziału biorę średnią arytmetyczną oraz wyliczam odchylenie standardowe. \n",
    "#Następnie używam boxamullera, moim mi jest średnia. Sigma jest odchyleniem standardowym. \n",
    "#W zależności od etapu, mi i sigma jest mnożona przez dany mnożnik. \n",
    "def simpleStage(start,end,cycles,multiplier):\n",
    "    baseMagnitude = [random.uniform(start,end) for x in range(cycles)]\n",
    "    avgBase = average(baseMagnitude)\n",
    "    stDev = statistics.stdev(baseMagnitude)\n",
    "    result = normalDist(avgBase*multiplier,stDev)\n",
    "    return result\n",
    "        \n"
   ]
  },
  {
   "cell_type": "code",
   "execution_count": 31,
   "metadata": {},
   "outputs": [
    {
     "ename": "SyntaxError",
     "evalue": "EOL while scanning string literal (<ipython-input-31-f91cf665be6e>, line 1)",
     "output_type": "error",
     "traceback": [
      "\u001b[0;36m  File \u001b[0;32m\"<ipython-input-31-f91cf665be6e>\"\u001b[0;36m, line \u001b[0;32m1\u001b[0m\n\u001b[0;31m    \"\"\"\"Waga plecaka i jego wpływ na ilość kalorii.  \"\"\"\"\u001b[0m\n\u001b[0m                                                         ^\u001b[0m\n\u001b[0;31mSyntaxError\u001b[0m\u001b[0;31m:\u001b[0m EOL while scanning string literal\n"
     ]
    }
   ],
   "source": [
    "\"\"\"\"Waga plecaka i jego wpływ na ilość kalorii.  \"\"\"\"\n",
    "def stage1(): \n",
    "    return simpleStage(15,40,50,50)\n",
    "\n",
    "\"\"\"\"ukształtowanie terenu i jego wpływ na liczbę kalorii.  \"\"\"\"\n",
    "def stage2(): # ukształtowanie terenu w skali od 1 do 20\n",
    "    return simpleStage(1,20,50,80)\n",
    "\n",
    "\"\"\"\"stopien zmęczenia i jego wpływ na osobę.  \"\"\"\"\n",
    "def stage3(): #stopien zmęczenia\n",
    "    return simpleStage(1,10,50,40)\n",
    "\n",
    "\n",
    "\"\"\"\" stopien padania deszczu, stopien wiania wiatru, wysokie niskie temperatury \"\"\"\"\n",
    "def stage4(): \n",
    "    \n",
    "    \"\"\"losowanie 50 różnych liczb dla siły deszczu, wiatru i temperatury. \"\"\"\"\n",
    "    rainMagnitude = [random.uniform(5,15) for x in range(50)]\n",
    "    windMagnitude = [random.uniform(1,10) for x in range(50)]\n",
    "    temperatureRange = [random.uniform(-25,25) for x in range(50)]\n",
    "    \n",
    "    \n",
    "    \"\"\"Obliczanie średniej z siły deszczu i wiatru. Temperatura jest brana losowo. z 50 liczb. \"\"\"\"\n",
    "    avgRain = average(rainMagnitude)\n",
    "    avgWind = average(windMagnitude)\n",
    "    temperature = random.choice(temperatureRange)\n",
    "    \n",
    "    \"\"\"Obliczanie odchylenia standardowego dla deszczu,wiatru i temperatury.  \"\"\"\"\n",
    "    stdDevRain=( statistics.stdev(rainMagnitude) )\n",
    "    stdDevWind = ( statistics.stdev(windMagnitude) )\n",
    "    stdDevTemp = ( statistics.stdev(temperatureRange) )\n",
    "    \n",
    "    tempRand = random.uniform(10,20) \n",
    "    \n",
    "    \"\"\"obliczanie boxa mullera dla deszczu i wiatru. \n",
    "    Dla temperatury, klasyfikuje ją na 4 kanały których wynikową jest obliczanie boxa mullera dla różnych mnożników.  \"\"\"\"\n",
    "    r1 = normalDist(avgRain*tempRand,stdDevRain)\n",
    "    r2 = normalDist(avgWind*tempRand ,stdDevWind )\n",
    "    r3 = temperatureClassyfying(temperature,stdDevTemp)\n",
    "    \n",
    "    result = r1+r2+r3\n",
    "    return result\n",
    "\n",
    "\"\"\"Wpływ naszej wagi. \"\"\"\"\n",
    "def stage5(): \n",
    "    weight = [random.uniform(50,90) for x in range(50)]\n",
    "    avgLevel = average(weight)\n",
    "    stDev = statistics.stdev(weight)\n",
    "    multiplier = random.uniform(3,12) #nasze zaawansowanie fizyczne. Im mniejsza liczba tym mniej kalorii zużyjemy\n",
    "    result = normalDist(avgLevel*multiplier,stDev)\n",
    "    return result\n",
    "\n",
    "\"\"\"Dodanie kalorii ze zjedzonych produktów. \"\"\"\"\n",
    "def stage6(): \n",
    "    return simpleStage(1300,2500,50,1)\n"
   ]
  },
  {
   "cell_type": "code",
   "execution_count": 34,
   "metadata": {},
   "outputs": [],
   "source": [
    "\"\"\"\"główna pętla.  \"\"\"\n",
    "def main():\n",
    "    generalResult = 0.0\n",
    "    \n",
    "    for x in range(5000): #monte carlo\n",
    "        generalResult+=stage1()\n",
    "        generalResult+=stage2()\n",
    "        generalResult+=stage3()\n",
    "        generalResult+=stage4()\n",
    "        generalResult+=stage5()\n",
    "        generalResult-=stage6()  \n",
    "        outputList.append(generalResult)\n",
    "        generalResult=0.0\n",
    "\n",
    "        \n",
    "if __name__ == '__main__':\n",
    "    main()\n",
    "        \n"
   ]
  },
  {
   "cell_type": "code",
   "execution_count": 46,
   "metadata": {},
   "outputs": [
    {
     "ename": "AttributeError",
     "evalue": "'Text' object has no attribute 'set_axis_labels'",
     "output_type": "error",
     "traceback": [
      "\u001b[0;31m---------------------------------------------------------------------------\u001b[0m",
      "\u001b[0;31mAttributeError\u001b[0m                            Traceback (most recent call last)",
      "\u001b[0;32m<ipython-input-46-ed1b210e5408>\u001b[0m in \u001b[0;36m<module>\u001b[0;34m\u001b[0m\n\u001b[1;32m      2\u001b[0m \u001b[0;34m\u001b[0m\u001b[0m\n\u001b[1;32m      3\u001b[0m \u001b[0max\u001b[0m \u001b[0;34m=\u001b[0m \u001b[0msns\u001b[0m\u001b[0;34m.\u001b[0m\u001b[0mdistplot\u001b[0m\u001b[0;34m(\u001b[0m\u001b[0moutputList\u001b[0m\u001b[0;34m,\u001b[0m\u001b[0mhist_kws\u001b[0m\u001b[0;34m=\u001b[0m\u001b[0mdict\u001b[0m\u001b[0;34m(\u001b[0m\u001b[0medgecolor\u001b[0m\u001b[0;34m=\u001b[0m\u001b[0;34m\"k\"\u001b[0m\u001b[0;34m,\u001b[0m \u001b[0mlinewidth\u001b[0m\u001b[0;34m=\u001b[0m\u001b[0;36m2\u001b[0m\u001b[0;34m)\u001b[0m\u001b[0;34m,\u001b[0m\u001b[0mfit\u001b[0m\u001b[0;34m=\u001b[0m\u001b[0msp\u001b[0m\u001b[0;34m.\u001b[0m\u001b[0mnorminvgauss\u001b[0m\u001b[0;34m,\u001b[0m\u001b[0mkde\u001b[0m\u001b[0;34m=\u001b[0m\u001b[0;32mFalse\u001b[0m\u001b[0;34m)\u001b[0m\u001b[0;34m.\u001b[0m\u001b[0mset_title\u001b[0m\u001b[0;34m(\u001b[0m\u001b[0;34m'Bilans kaloryczny przy wysiłku w górach '\u001b[0m\u001b[0;34m)\u001b[0m\u001b[0;34m\u001b[0m\u001b[0;34m\u001b[0m\u001b[0m\n\u001b[0;32m----> 4\u001b[0;31m \u001b[0max\u001b[0m\u001b[0;34m.\u001b[0m\u001b[0mset_axis_labels\u001b[0m\u001b[0;34m(\u001b[0m\u001b[0;34m\"Day\"\u001b[0m\u001b[0;34m,\u001b[0m \u001b[0;34m\"Total Bill\"\u001b[0m\u001b[0;34m)\u001b[0m\u001b[0;34m;\u001b[0m\u001b[0;34m\u001b[0m\u001b[0;34m\u001b[0m\u001b[0m\n\u001b[0m\u001b[1;32m      5\u001b[0m \u001b[0mplt\u001b[0m\u001b[0;34m.\u001b[0m\u001b[0mshow\u001b[0m\u001b[0;34m(\u001b[0m\u001b[0;34m)\u001b[0m\u001b[0;34m\u001b[0m\u001b[0;34m\u001b[0m\u001b[0m\n",
      "\u001b[0;31mAttributeError\u001b[0m: 'Text' object has no attribute 'set_axis_labels'"
     ]
    },
    {
     "data": {
      "image/png": "[encoded data removed]",
      "text/plain": [
       "<Figure size 432x288 with 1 Axes>"
      ]
     },
     "metadata": {
      "needs_background": "light"
     },
     "output_type": "display_data"
    }
   ],
   "source": [
    "\"\"\"\"wyświetlanie wykresu.\"\"\"\n",
    "\n",
    "ax = sns.distplot(outputList,hist_kws=dict(edgecolor=\"k\", linewidth=2),fit=sp.norminvgauss,kde=False).set_title('Bilans kaloryczny przy wysiłku w górach ')\n",
    "ax.set_axis_labels(\"Day\", \"Total Bill\");\n",
    "plt.show()"
   ]
  },
  {
   "cell_type": "code",
   "execution_count": null,
   "metadata": {},
   "outputs": [],
   "source": []
  },
  {
   "cell_type": "code",
   "execution_count": null,
   "metadata": {},
   "outputs": [],
   "source": []
  },
  {
   "cell_type": "code",
   "execution_count": null,
   "metadata": {},
   "outputs": [],
   "source": []
  },
  {
   "cell_type": "code",
   "execution_count": null,
   "metadata": {},
   "outputs": [],
   "source": []
  }
 ],
 "metadata": {
  "kernelspec": {
   "display_name": "Python 3",
   "language": "python",
   "name": "python3"
  },
  "language_info": {
   "codemirror_mode": {
    "name": "ipython",
    "version": 3
   },
   "file_extension": ".py",
   "mimetype": "text/x-python",
   "name": "python",
   "nbconvert_exporter": "python",
   "pygments_lexer": "ipython3",
   "version": "3.6.7"
  }
 },
 "nbformat": 4,
 "nbformat_minor": 2
}
