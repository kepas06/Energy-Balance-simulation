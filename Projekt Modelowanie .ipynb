{
 "cells": [
  {
   "cell_type": "code",
   "execution_count": 33,
   "metadata": {},
   "outputs": [],
   "source": [
    "import random\n",
    "from functools import reduce\n",
    "from math import sqrt,log,sin,cos,pi\n",
    "import statistics\n",
    "import seaborn as sns\n",
    "import scipy.stats as sp\n",
    "#użyte wzory: stdev - odchylenie standardowe https://www.geeksforgeeks.org/python-statistics-stdev/\n",
    "\n",
    "outputList = []\n"
   ]
  },
  {
   "cell_type": "code",
   "execution_count": 34,
   "metadata": {},
   "outputs": [],
   "source": [
    "#functionsTo use \n",
    "def average(lst): \n",
    "    return reduce(lambda a, b: a + b, lst) / len(lst) \n",
    "\n",
    "def normalDist(mu,sigma):\n",
    "    u = random.random()\n",
    "    v = random.random()\n",
    "\n",
    "    z1 = sqrt(-2 * log(u)) * sin(2 * pi * v)\n",
    "    z2 = sqrt(-2 * log(u)) * cos(2 * pi * v)\n",
    "    \n",
    "    x1 = mu + z1 * sigma\n",
    "    x2 = mu + z2 * sigma\n",
    "\n",
    "    return x2\n",
    "\n",
    "def temperatureClassyfying(temp,stdDev):\n",
    "    if temp > -25 and temp < -15:\n",
    "        result = normalDist(abs(temp),stdDev)*30\n",
    "    elif temp >= -15 and temp<0:\n",
    "        result = normalDist(abs(temp),stdDev)*20\n",
    "    elif temp >=0 and temp < 10:\n",
    "        result = normalDist(abs(temp),stdDev)*10\n",
    "    elif temp >=10 and temp <25:\n",
    "        result = normalDist(abs(temp),stdDev)*20\n",
    "    \n",
    "    return result\n",
    "\n",
    "def simpleStage(start,end,cycles,multiplier):\n",
    "    baseMagnitude = [random.uniform(start,end) for x in range(cycles)]\n",
    "    avgBase = average(baseMagnitude)\n",
    "    stDev = statistics.stdev(baseMagnitude)\n",
    "    result = normalDist(avgBase,stDev) *multiplier\n",
    "    return result\n",
    "        \n"
   ]
  },
  {
   "cell_type": "code",
   "execution_count": 35,
   "metadata": {},
   "outputs": [],
   "source": [
    "def stage1(): #waga plecaka \n",
    "    return simpleStage(15,40,50,50)\n",
    "\n",
    "def stage2(): # ukształtowanie terenu w skali od 1 do 20\n",
    "    return simpleStage(1,20,50,80)\n",
    "\n",
    "def stage3(): #stopien zmęczenia\n",
    "    return simpleStage(1,10,50,40)\n",
    "\n",
    "def stage4(): # stopien padania deszczu, stopien wiania wiatru, wysokie niskie temperatury\n",
    "    rainMagnitude = [random.uniform(5,15) for x in range(50)]\n",
    "    windMagnitude = [random.uniform(1,10) for x in range(50)]\n",
    "    temperatureRange = [random.uniform(-25,25) for x in range(50)]\n",
    "    \n",
    "    avgRain = average(rainMagnitude)\n",
    "    avgWind = average(windMagnitude)\n",
    "    temperature = random.choice(temperatureRange)\n",
    "    \n",
    "    stdDevRain=( statistics.stdev(rainMagnitude) )\n",
    "    stdDevWind = ( statistics.stdev(windMagnitude) )\n",
    "    stdDevTemp = ( statistics.stdev(temperatureRange) )\n",
    "    \n",
    "    r1 = normalDist(avgRain,stdDevRain)*random.uniform(10,20) \n",
    "    r2 = normalDist(avgWind,stdDevWind)*random.uniform(10,20) \n",
    "    r3 = temperatureClassyfying(temperature,stdDevTemp)\n",
    "    \n",
    "    result = r1+r2+r3\n",
    "    return result\n",
    "\n",
    "\n",
    "def stage5(): # nasza Waga\n",
    "    weight = [random.uniform(50,90) for x in range(50)]\n",
    "    avgLevel = average(weight)\n",
    "    stDev = statistics.stdev(weight)\n",
    "    multiplier = random.uniform(3,12) #nasze zaawansowanie fizyczne. Im mniejsza liczba tym mniej kalorii zużyjemy\n",
    "    result = normalDist(avgLevel,stDev)*multiplier\n",
    "    return result\n",
    "\n",
    "\n",
    "def stage6(): # dodanie wartosci odzywczych od do ileś kcal.\n",
    "    return simpleStage(1300,2500,50,1)\n"
   ]
  },
  {
   "cell_type": "code",
   "execution_count": 36,
   "metadata": {},
   "outputs": [],
   "source": [
    "def main():\n",
    "    generalResult = 0.0\n",
    "    \n",
    "    for x in range(2000): #monte carlo\n",
    "        generalResult+=stage1()\n",
    "        generalResult+=stage2()\n",
    "        generalResult+=stage3()\n",
    "        generalResult+=stage4()\n",
    "        generalResult+=stage5()\n",
    "        generalResult-=stage6()\n",
    "        outputList.append(generalResult)\n",
    "        generalResult=0.0\n",
    "\n",
    "        \n",
    "if __name__ == '__main__':\n",
    "    main()\n",
    "        \n"
   ]
  },
  {
   "cell_type": "code",
   "execution_count": 37,
   "metadata": {},
   "outputs": [
    {
     "data": {
      "text/plain": [
       "<matplotlib.axes._subplots.AxesSubplot at 0x7f7be82669e8>"
      ]
     },
     "execution_count": 37,
     "metadata": {},
     "output_type": "execute_result"
    },
    {
     "data": {
      "image/png": "[encoded data removed]",
      "text/plain": [
       "<Figure size 432x288 with 1 Axes>"
      ]
     },
     "metadata": {
      "needs_background": "light"
     },
     "output_type": "display_data"
    }
   ],
   "source": [
    "sns.distplot(outputList,fit=sp.norm,kde=True)\n"
   ]
  },
  {
   "cell_type": "code",
   "execution_count": null,
   "metadata": {},
   "outputs": [],
   "source": []
  },
  {
   "cell_type": "code",
   "execution_count": null,
   "metadata": {},
   "outputs": [],
   "source": []
  }
 ],
 "metadata": {
  "kernelspec": {
   "display_name": "Python 3",
   "language": "python",
   "name": "python3"
  },
  "language_info": {
   "codemirror_mode": {
    "name": "ipython",
    "version": 3
   },
   "file_extension": ".py",
   "mimetype": "text/x-python",
   "name": "python",
   "nbconvert_exporter": "python",
   "pygments_lexer": "ipython3",
   "version": "3.6.7"
  }
 },
 "nbformat": 4,
 "nbformat_minor": 2
}
